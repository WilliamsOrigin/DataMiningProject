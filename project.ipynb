{
 "cells": [
  {
   "cell_type": "code",
   "execution_count": null,
   "id": "ab2c541e",
   "metadata": {},
   "outputs": [],
   "source": [
    "## for data\n",
    "import pandas as pd\n",
    "import numpy as np\n",
    "## for plotting\n",
    "import matplotlib.pyplot as plt\n",
    "import seaborn as sns\n",
    "## for statistical tests\n",
    "import scipy\n",
    "## for machine learning\n",
    "from sklearn import model_selection, preprocessing, feature_selection, ensemble, linear_model, metrics, decomposition\n",
    "from sklearn.preprocessing import MinMaxScaler\n",
    "from sklearn.preprocessing import StandardScaler\n",
    "from sklearn.decomposition import PCA\n",
    "from sklearn.metrics import accuracy_score\n",
    "from sklearn.model_selection import train_test_split\n",
    "from sklearn.neighbors import KNeighborsClassifier\n",
    "from sklearn.ensemble import RandomForestClassifier\n",
    "from sklearn import metrics\n",
    "from sklearn.model_selection import cross_val_score, validation_curve\n"
   ]
  },
  {
   "cell_type": "code",
   "execution_count": null,
   "id": "bf1fb9fc",
   "metadata": {},
   "outputs": [],
   "source": [
    "dtf = pd.read_csv('data/games.csv', sep=',')\n",
    "dtf.head()"
   ]
  },
  {
   "cell_type": "code",
   "execution_count": null,
   "id": "45c4b05d",
   "metadata": {},
   "outputs": [],
   "source": [
    "dtf.shape"
   ]
  },
  {
   "cell_type": "code",
   "execution_count": null,
   "id": "6cfd8958",
   "metadata": {},
   "outputs": [],
   "source": [
    "target = dtf[\"HOME_TEAM_WINS\"]"
   ]
  },
  {
   "cell_type": "code",
   "execution_count": null,
   "id": "bcd084fd",
   "metadata": {},
   "outputs": [],
   "source": [
    "#remove col date\n",
    "dtf = dtf.drop(\"GAME_DATE_EST\", 1)\n",
    "dtf = dtf.drop(\"GAME_STATUS_TEXT\", 1)\n"
   ]
  },
  {
   "cell_type": "code",
   "execution_count": null,
   "id": "17808bfc",
   "metadata": {},
   "outputs": [],
   "source": [
    "def utils_recognize_type(dtf, col, max_cat=20):\n",
    "    if (dtf[col].dtype == \"O\") | (dtf[col].nunique() < max_cat):\n",
    "        return \"cat\"\n",
    "    else:\n",
    "        return \"num\""
   ]
  },
  {
   "cell_type": "code",
   "execution_count": null,
   "id": "78a015ea",
   "metadata": {},
   "outputs": [],
   "source": [
    "dic_cols = {col:utils_recognize_type(dtf, col, max_cat=20) for col in dtf.columns}\n",
    "#We replace missing value by column mean\n",
    "for k,v in dic_cols.items():\n",
    "    x = dtf[k].median()\n",
    "    dtf[k].fillna(x, inplace = True)"
   ]
  },
  {
   "cell_type": "code",
   "execution_count": null,
   "id": "e25be647",
   "metadata": {},
   "outputs": [],
   "source": [
    "heatmap = dtf.isnull()\n",
    "for k,v in dic_cols.items():\n",
    " if v == \"num\":\n",
    "   heatmap[k] = heatmap[k].apply(lambda x: 0.5 if x is False else 1)\n",
    " else:\n",
    "   heatmap[k] = heatmap[k].apply(lambda x: 0 if x is False else 1)\n",
    "sns.heatmap(heatmap, cbar=False).set_title('Dataset Overview')\n",
    "plt.show()\n",
    "print(\"\\033[1;37;40m Categerocial \", \"\\033[1;30;41m Numeric \", \"\\033[1;30;47m NaN \")"
   ]
  },
  {
   "cell_type": "code",
   "execution_count": null,
   "id": "1d75fd37",
   "metadata": {},
   "outputs": [],
   "source": [
    "dtf = dtf.set_index(\"GAME_ID\")\n",
    "dtf = dtf.rename(columns={\"HOME_TEAM_WINS\":\"Y\"})"
   ]
  },
  {
   "cell_type": "code",
   "execution_count": null,
   "id": "7abcf848",
   "metadata": {},
   "outputs": [],
   "source": [
    "y = \"Y\"\n",
    "ax = dtf[y].value_counts().sort_values().plot(kind=\"barh\")\n",
    "totals= []\n",
    "for i in ax.patches:\n",
    "    totals.append(i.get_width())\n",
    "total = sum(totals)\n",
    "for i in ax.patches:\n",
    "     ax.text(i.get_width()+.3, i.get_y()+.20, \n",
    "     str(round((i.get_width()/total)*100, 2))+'%', \n",
    "     fontsize=10, color='black')\n",
    "ax.grid(axis=\"x\")\n",
    "plt.suptitle(y, fontsize=20)\n",
    "plt.show()"
   ]
  },
  {
   "cell_type": "code",
   "execution_count": null,
   "id": "f94504f7",
   "metadata": {},
   "outputs": [],
   "source": [
    "X_train, X_test, y_train, y_test = train_test_split(dtf, target, test_size=0.2, random_state=0)"
   ]
  },
  {
   "cell_type": "code",
   "execution_count": null,
   "id": "9a10dfd7",
   "metadata": {},
   "outputs": [],
   "source": [
    "corr_matrix = dtf.copy()\n",
    "for col in corr_matrix.columns:\n",
    "    if corr_matrix[col].dtype == \"O\":\n",
    "         corr_matrix[col] = corr_matrix[col].factorize(sort=True)[0]\n",
    "corr_matrix = corr_matrix.corr(method=\"pearson\")\n",
    "sns.heatmap(corr_matrix, vmin=-1., vmax=1., annot=True, fmt='.2f', cmap=\"YlGnBu\", cbar=True, linewidths=0.5)\n",
    "plt.title(\"Team correlation\")"
   ]
  },
  {
   "cell_type": "code",
   "execution_count": null,
   "id": "28378462",
   "metadata": {},
   "outputs": [],
   "source": []
  },
  {
   "cell_type": "code",
   "execution_count": null,
   "id": "0423f3c5",
   "metadata": {},
   "outputs": [],
   "source": [
    "sc = StandardScaler()\n",
    "X_train = sc.fit_transform(X_train)\n",
    "X_test = sc.transform(X_test)"
   ]
  },
  {
   "cell_type": "code",
   "execution_count": null,
   "id": "599bd9ef",
   "metadata": {},
   "outputs": [],
   "source": [
    "X_train.shape"
   ]
  },
  {
   "cell_type": "code",
   "execution_count": null,
   "id": "ccaec864",
   "metadata": {},
   "outputs": [],
   "source": [
    "'''\n",
    "-Use different method reduction\n",
    "- compute their accurancy\n",
    "- Compare different accurancy and take that one has hight \n",
    "'''\n",
    "pca = PCA(n_components=2)\n",
    "X_train = pca.fit_transform(X_train)\n",
    "X_test = pca.transform(X_test)\n",
    "\n",
    "classifier = RandomForestClassifier(max_depth=2, random_state=0)\n",
    "classifier.fit(X_train, y_train)\n",
    "y_pred = classifier.predict(X_test)\n",
    "pca.fit(X_train)"
   ]
  },
  {
   "cell_type": "code",
   "execution_count": null,
   "id": "33e4ed53",
   "metadata": {},
   "outputs": [],
   "source": [
    "#Accuracy PCA\n",
    "print('Accuracy', accuracy_score(y_test, y_pred))"
   ]
  },
  {
   "cell_type": "code",
   "execution_count": null,
   "id": "5aad1261",
   "metadata": {},
   "outputs": [],
   "source": [
    "plt.figure(figsize=(8,6))\n",
    "plt.scatter(X_train[:,0],X_train[:,1],c=y_train)\n",
    "plt.xlabel('First principle component')\n",
    "plt.ylabel('Second principle component')"
   ]
  },
  {
   "cell_type": "code",
   "execution_count": null,
   "id": "a0300f34",
   "metadata": {},
   "outputs": [],
   "source": [
    "X_train, X_test, y_train, y_test = train_test_split(dtf, target, test_size=0.2, random_state=0)"
   ]
  },
  {
   "cell_type": "code",
   "execution_count": null,
   "id": "fbe056f3",
   "metadata": {},
   "outputs": [],
   "source": [
    "k_range = range(1,26)\n",
    "scores = {}\n",
    "scores_cross_val = {}\n",
    "scores_list = []\n",
    "scores_list_cross_val = []\n",
    "for k in k_range :\n",
    "    knn = KNeighborsClassifier(n_neighbors=k)\n",
    "    knn.fit(X_train, y_train)\n",
    "    y_pred = knn.predict(X_test)\n",
    "    scores[k] = metrics.accuracy_score(y_test, y_pred)\n",
    "    scores_list.append(metrics.accuracy_score(y_test, y_pred))"
   ]
  },
  {
   "cell_type": "code",
   "execution_count": 104,
   "id": "51973e87",
   "metadata": {},
   "outputs": [
    {
     "name": "stderr",
     "output_type": "stream",
     "text": [
      "C:\\ProgramData\\Anaconda3\\lib\\site-packages\\sklearn\\utils\\validation.py:70: FutureWarning: Pass param_name=n_neighbors, param_range=range(1, 26) as keyword args. From version 1.0 (renaming of 0.25) passing these as positional arguments will result in an error\n",
      "  warnings.warn(f\"Pass {args_msg} as keyword args. From version \"\n"
     ]
    }
   ],
   "source": [
    "#Use cross validation number of split in validation 5\n",
    "train_score, validation_score = validation_curve(knn, X_train, y_train, 'n_neighbors', k_range, cv=5)"
   ]
  },
  {
   "cell_type": "code",
   "execution_count": 105,
   "id": "93ffc291",
   "metadata": {},
   "outputs": [
    {
     "data": {
      "text/plain": [
       "<matplotlib.legend.Legend at 0x1813cee0d90>"
      ]
     },
     "execution_count": 105,
     "metadata": {},
     "output_type": "execute_result"
    },
    {
     "data": {
      "image/png": "[encoded data removed]",
      "text/plain": [
       "<Figure size 432x288 with 1 Axes>"
      ]
     },
     "metadata": {
      "needs_background": "light"
     },
     "output_type": "display_data"
    }
   ],
   "source": [
    "#Plot for cross validation\n",
    "plt.plot(k_range, train_score.mean(axis=1), label=\"train\")\n",
    "plt.plot(k_range, validation_score.mean(axis=1), label=\"Validation\")\n",
    "plt.xlabel(\"K value for KNN\")\n",
    "plt.ylabel(\"Test accuracy\")\n",
    "plt.legend()"
   ]
  },
  {
   "cell_type": "code",
   "execution_count": 106,
   "id": "e0b7a6dd",
   "metadata": {},
   "outputs": [
    {
     "data": {
      "text/plain": [
       "Text(0, 0.5, 'Test accuracy')"
      ]
     },
     "execution_count": 106,
     "metadata": {},
     "output_type": "execute_result"
    },
    {
     "data": {
      "image/png": "[encoded data removed]",
      "text/plain": [
       "<Figure size 432x288 with 1 Axes>"
      ]
     },
     "metadata": {
      "needs_background": "light"
     },
     "output_type": "display_data"
    }
   ],
   "source": [
    "plt.plot(k_range, scores_list)\n",
    "plt.xlabel(\"K value for KNN\")\n",
    "plt.ylabel(\"Test accuracy\")"
   ]
  },
  {
   "cell_type": "code",
   "execution_count": 107,
   "id": "db17f68e",
   "metadata": {},
   "outputs": [
    {
     "data": {
      "text/plain": [
       "0.599000999000999"
      ]
     },
     "execution_count": 107,
     "metadata": {},
     "output_type": "execute_result"
    }
   ],
   "source": [
    "#Using Kneighbors\n",
    "n_neighbors = 5\n",
    "knn = KNeighborsClassifier(n_neighbors = 5)\n",
    "knn.fit(X_train, y_train)\n",
    "knn.score(X_test, y_test)"
   ]
  },
  {
   "cell_type": "code",
   "execution_count": 108,
   "id": "7c1c09a8",
   "metadata": {},
   "outputs": [
    {
     "name": "stdout",
     "output_type": "stream",
     "text": [
      "Accuracy 0.5646353646353647\n"
     ]
    }
   ],
   "source": [
    "#Accuracy KNeighbors\n",
    "print('Accuracy', accuracy_score(y_test, y_pred))"
   ]
  },
  {
   "cell_type": "code",
   "execution_count": null,
   "id": "d778701f",
   "metadata": {},
   "outputs": [],
   "source": []
  },
  {
   "cell_type": "code",
   "execution_count": null,
   "id": "384fa7f0",
   "metadata": {},
   "outputs": [],
   "source": []
  }
 ],
 "metadata": {
  "kernelspec": {
   "display_name": "Python 3 (ipykernel)",
   "language": "python",
   "name": "python3"
  },
  "language_info": {
   "codemirror_mode": {
    "name": "ipython",
    "version": 3
   },
   "file_extension": ".py",
   "mimetype": "text/x-python",
   "name": "python",
   "nbconvert_exporter": "python",
   "pygments_lexer": "ipython3",
   "version": "3.9.7"
  }
 },
 "nbformat": 4,
 "nbformat_minor": 5
}
