{
  "cells": [
    {
      "cell_type": "markdown",
      "metadata": {
        "id": "view-in-github",
        "colab_type": "text"
      },
      "source": [
        "<a href=\"https://colab.research.google.com/github/WilliamsOrigin/DataMiningProject/blob/main/project_bigdata.ipynb\" target=\"_parent\"><img src=\"https://colab.research.google.com/assets/colab-badge.svg\" alt=\"Open In Colab\"/></a>"
      ]
    },
    {
      "cell_type": "markdown",
      "metadata": {
        "id": "FhCOhr01F-Q2"
      },
      "source": [
        "# Big Data Analytics Project proposal 2021 - 2022"
      ]
    },
    {
      "cell_type": "code",
      "execution_count": 479,
      "metadata": {
        "id": "6yC584HNHcYl"
      },
      "outputs": [],
      "source": [
        "# install java \n",
        "!apt-get install openjdk-8-jdk-headless -qq > /dev/null"
      ]
    },
    {
      "cell_type": "code",
      "execution_count": 480,
      "metadata": {
        "id": "iTQ_1lcCHijv"
      },
      "outputs": [],
      "source": [
        "# install spark (change the version number if needed)\n",
        "!wget -q https://archive.apache.org/dist/spark/spark-3.0.0/spark-3.0.0-bin-hadoop3.2.tgz"
      ]
    },
    {
      "cell_type": "code",
      "execution_count": 481,
      "metadata": {
        "id": "-gj7Q94KHo9p"
      },
      "outputs": [],
      "source": [
        "# unzip the spark file to the current folder \n",
        "!tar xf spark-3.0.0-bin-hadoop3.2.tgz"
      ]
    },
    {
      "cell_type": "markdown",
      "metadata": {
        "id": "GgmX3y_OHxLp"
      },
      "source": [
        "Set the environment path which will enables to run Pyspark in Colab environment."
      ]
    },
    {
      "cell_type": "code",
      "execution_count": 482,
      "metadata": {
        "id": "8S5WhMKLIDn0"
      },
      "outputs": [],
      "source": [
        "# set your spark folder to your system path environment. \n",
        "import os \n",
        "os.environ[\"JAVA_HOME\"] = \"/usr/lib/jvm/java-8-openjdk-amd64\" \n",
        "os.environ[\"SPARK_HOME\"] = \"/content/spark-3.0.0-bin-hadoop3.2\""
      ]
    },
    {
      "cell_type": "code",
      "execution_count": 483,
      "metadata": {
        "colab": {
          "base_uri": "https://localhost:8080/"
        },
        "id": "5l0we621I3_-",
        "outputId": "ba49651a-2521-493e-d721-abd92e109c51"
      },
      "outputs": [
        {
          "output_type": "stream",
          "name": "stdout",
          "text": [
            "Requirement already satisfied: pyspark in /usr/local/lib/python3.7/dist-packages (3.2.1)\n",
            "Requirement already satisfied: py4j==0.10.9.3 in /usr/local/lib/python3.7/dist-packages (from pyspark) (0.10.9.3)\n"
          ]
        }
      ],
      "source": [
        "# install pyspark and findspark using pip \n",
        "!pip install pyspark\n",
        "!pip install -q findspark"
      ]
    },
    {
      "cell_type": "code",
      "source": [
        "## for data\n",
        "import pandas as pd\n",
        "import numpy as np\n",
        "## for plotting\n",
        "import matplotlib.pyplot as plt\n",
        "import statistics\n",
        "import operator\n"
      ],
      "metadata": {
        "id": "MoZSUirJn8lh"
      },
      "execution_count": 549,
      "outputs": []
    },
    {
      "cell_type": "markdown",
      "metadata": {
        "id": "_uep_7DnJInL"
      },
      "source": [
        "Run a local spark session to test the installation and then import all the input files containing the data of the project."
      ]
    },
    {
      "cell_type": "code",
      "execution_count": 550,
      "metadata": {
        "id": "TU7Zeq71JVfS"
      },
      "outputs": [],
      "source": [
        "from numpy import array\n",
        "import findspark\n",
        "findspark.init()\n",
        "findspark.find()\n",
        "import pyspark\n",
        "findspark.find()\n",
        "from pyspark import SparkContext, SparkConf\n",
        "from pyspark.sql import SparkSession\n",
        "from pyspark.mllib.linalg import Vectors, SparseMatrix\n",
        "from pyspark.sql.types import *\n",
        "from pyspark.sql.functions import *\n",
        "from pyspark.sql import Row\n",
        "from pyspark.ml.stat import Correlation\n",
        "from pyspark.ml.feature import Imputer\n"
      ]
    },
    {
      "cell_type": "code",
      "source": [
        "from pyspark.ml.feature import PCA\n",
        "from sklearn.preprocessing import StandardScaler\n"
      ],
      "metadata": {
        "id": "l2s8imBa7U2G"
      },
      "execution_count": 557,
      "outputs": []
    },
    {
      "cell_type": "code",
      "source": [
        "#conf = pyspark.SparkConf().setAppName('BigData').setMaster('local')\n",
        "#sc = pyspark.SparkContext(conf=conf)"
      ],
      "metadata": {
        "id": "tl-L7gED2nY6"
      },
      "execution_count": 486,
      "outputs": []
    },
    {
      "cell_type": "code",
      "source": [
        "\n",
        "spark = SparkSession(sc)"
      ],
      "metadata": {
        "id": "T0OtDb_6fQ_6"
      },
      "execution_count": 487,
      "outputs": []
    },
    {
      "cell_type": "markdown",
      "metadata": {
        "id": "Qssx4hOaLz48"
      },
      "source": [
        "## Import Files"
      ]
    },
    {
      "cell_type": "code",
      "source": [
        "sc = spark.sparkContext\n",
        "lines = sc.textFile('sample_data/pendigits.txt')\n",
        "\n",
        "def split_line(line):\n",
        "  \n",
        "  #parts_t = list(map(split_part, line))\n",
        "  parts = line.split(\" \")\n",
        "  res=[np.NaN,np.NaN,np.NaN,np.NaN,np.NaN,np.NaN,np.NaN,np.NaN,np.NaN,np.NaN,np.NaN,np.NaN,np.NaN,np.NaN,np.NaN,np.NaN,np.NaN ]\n",
        "  for part in parts:\n",
        "    p = part.split(\":\")\n",
        "    if(len(p) == 1):\n",
        "      res[0] = int(p[0])\n",
        "    else:\n",
        "      res[int(p[0])] = int(p[1])\n",
        "  \n",
        "  return res\n",
        "\n",
        "parts = lines.map(split_line)\n"
      ],
      "metadata": {
        "id": "8eUtMDXwyKzJ"
      },
      "execution_count": 531,
      "outputs": []
    },
    {
      "cell_type": "markdown",
      "source": [
        ""
      ],
      "metadata": {
        "id": "pwHZogTt5JNe"
      }
    },
    {
      "cell_type": "code",
      "source": [
        "data = parts.map(lambda p: Row(target=p[0], a=p[1], b=p[2], c=p[3],d=p[4], e=p[5], f=p[6], g=p[7], h=p[8], i=p[9], j=p[10], k=p[11], l=p[12], m=p[13], n=p[14], o=p[15], p=p[16]))\n",
        "dbf = spark.createDataFrame(data)\n",
        "dbf.show()"
      ],
      "metadata": {
        "colab": {
          "base_uri": "https://localhost:8080/"
        },
        "id": "9HXh_yos1bIe",
        "outputId": "841dc200-fe98-4624-c603-e119b01389ae"
      },
      "execution_count": 532,
      "outputs": [
        {
          "output_type": "stream",
          "name": "stdout",
          "text": [
            "+------+----+---+---+---+----+---+---+----+----+---+----+----+---+----+----+----+\n",
            "|target|   a|  b|  c|  d|   e|  f|  g|   h|   i|  j|   k|   l|  m|   n|   o|   p|\n",
            "+------+----+---+---+---+----+---+---+----+----+---+----+----+---+----+----+----+\n",
            "|     8|  47|100| 27| 81|  57| 37| 26| NaN| NaN| 23|  56|  53|100|  90|  40|  98|\n",
            "|     2|null| 89| 27|100|  42| 75| 29|null|null| 15|  37|null| 69|   2| 100|   6|\n",
            "|     1|null| 57| 31| 68|  72| 90|100|null|null| 75|  50|  51| 28|  25|  16|null|\n",
            "|     4|null|100|  7| 92|   5| 68| 19|null|null| 34| 100|  45| 74|  23|  67|null|\n",
            "|     1|null| 67| 49| 83| 100|100| 81|null|null| 60|  40|  40| 33|  20|  47|null|\n",
            "|     6| 100|100| 88| 99|  49| 74| 17|null| NaN| 16|  37|null| 73|  16|  20|  20|\n",
            "|     4|null|100|  3| 72|  26| 35| 85|null|null| 71|  73|  97| 65|  49|  66|null|\n",
            "|     0|null| 39|  2| 62|  11|  5| 63| NaN|null| 43|  89|  99| 36| 100|null|  57|\n",
            "|     5|  13| 89| 12| 50|  72| 38| 56| NaN|null| 17|null|  61| 32|  94| 100| 100|\n",
            "|     0|  57|100| 22| 72|null| 31| 25| NaN|null| 13| 100|  50| 75|  87|  26|  85|\n",
            "|     9|  74| 87| 31|100|null| 69| 62|null|null| 79| 100|  38| 84|null|  18|   1|\n",
            "|     8|  48| 96| 62| 65|  88| 27| 21| NaN|null| 33|  79|  67|100| 100|null|  85|\n",
            "|     5| 100|100| 72| 99|  36| 78| 34|null|null| 47|  64|  13| 19|null|null|   2|\n",
            "|     9|  91| 74| 54|100|null| 87| 23|null|null| 67| 100|  39| 79|   4|  21|null|\n",
            "|     7|null| 85| 38|100|  81| 88| 87|null|null| 12|  58|null| 53|  22| 100|  24|\n",
            "|     3|  35| 76| 57|100| 100| 92| 68|null|null| 38|  82|   9| 32|null|null|  17|\n",
            "|     3|  50| 84| 66|100|  75| 75| 51|null|null| 42|  97|  13| 49|null|null|   7|\n",
            "|     9|  99| 80| 63|100|  25| 76| 79|null|null| 62|  97|  23| 54|null|null|  16|\n",
            "|     2|  24| 66| 43|100|  59| 65| 34|null| NaN|  1|  16|  11| 58|null| 100|   1|\n",
            "|     2|null| 73| 19| 99|  72|100| 70|null|null| 48|   5|  18| 46|null| 100|null|\n",
            "+------+----+---+---+---+----+---+---+----+----+---+----+----+---+----+----+----+\n",
            "only showing top 20 rows\n",
            "\n"
          ]
        }
      ]
    },
    {
      "cell_type": "markdown",
      "metadata": {
        "id": "rAkwAtyqaD5m"
      },
      "source": [
        "## 1- Clean the Dataset"
      ]
    },
    {
      "cell_type": "code",
      "source": [
        "imputer = Imputer()\n",
        "imputer.setInputCols([\"a\",\"b\", \"c\",\"d\",\"e\",\"f\",\"g\",\"j\",\"k\",\"l\",\"m\",\"n\",\"o\",\"p\"])\n",
        "imputer.setOutputCols([\"out_a\", \"out_b\",  \"out_c\",\"out_d\",\"out_e\",\"out_f\",\"out_g\",\"out_j\",\"out_k\",\"out_l\",\"out_m\",\"out_n\",\"out_o\",\"out_p\"])\n",
        "imputer.getRelativeError()\n",
        "model = imputer.fit(dbf)"
      ],
      "metadata": {
        "id": "vBPNQrcocN5V"
      },
      "execution_count": 533,
      "outputs": []
    },
    {
      "cell_type": "code",
      "source": [
        "model.surrogateDF.show()"
      ],
      "metadata": {
        "colab": {
          "base_uri": "https://localhost:8080/"
        },
        "id": "6zu-WNVIz0vO",
        "outputId": "a586785a-42bc-4aed-90d5-ecdf5ee8ab47"
      },
      "execution_count": 515,
      "outputs": [
        {
          "output_type": "stream",
          "name": "stdout",
          "text": [
            "+-----------------+-----------------+-----------------+----------------+-----------------+-----------------+------------------+-----------------+-----------------+-----------------+------------------+------------------+-----------------+-----------------+\n",
            "|                a|                b|                c|               d|                e|                f|                 g|                j|                k|                l|                 m|                 n|                o|                p|\n",
            "+-----------------+-----------------+-----------------+----------------+-----------------+-----------------+------------------+-----------------+-----------------+-----------------+------------------+------------------+-----------------+-----------------+\n",
            "|48.11231324059763|84.97415640064274|43.88844971453667|83.0224538893344|59.51951295660319|67.63466074649646|56.343850423605026|42.55233333333333|69.33745103946973|40.13035019455253|55.801796896270076|42.204027056787794|63.35958100054181|45.80975818531992|\n",
            "+-----------------+-----------------+-----------------+----------------+-----------------+-----------------+------------------+-----------------+-----------------+-----------------+------------------+------------------+-----------------+-----------------+\n",
            "\n"
          ]
        }
      ]
    },
    {
      "cell_type": "code",
      "source": [
        "mdbf = model.transform(dbf)"
      ],
      "metadata": {
        "id": "0DurxNW1z1Q4"
      },
      "execution_count": 534,
      "outputs": []
    },
    {
      "cell_type": "code",
      "source": [
        "mdbf = mdbf.drop(*[\"a\",\"b\", \"c\",\"d\",\"e\",\"f\",\"g\",\"h\",\"i\",\"j\",\"k\",\"l\",\"m\",\"n\",\"o\",\"p\"])\n",
        "mdbf.show()"
      ],
      "metadata": {
        "colab": {
          "base_uri": "https://localhost:8080/"
        },
        "id": "3tDgYYTF0whZ",
        "outputId": "1f1599df-3068-46d6-9434-0f7e1ab5fbf7"
      },
      "execution_count": 535,
      "outputs": [
        {
          "output_type": "stream",
          "name": "stdout",
          "text": [
            "+------+-----+-----+-----+-----+-----+-----+-----+-----+-----+-----+-----+-----+-----+-----+\n",
            "|target|out_p|out_e|out_l|out_d|out_m|out_c|out_n|out_j|out_g|out_b|out_o|out_k|out_a|out_f|\n",
            "+------+-----+-----+-----+-----+-----+-----+-----+-----+-----+-----+-----+-----+-----+-----+\n",
            "|     8|   98|   57|   53|   81|  100|   27|   90|   23|   26|  100|   40|   56|   47|   37|\n",
            "|     2|    6|   42|   40|  100|   69|   27|    2|   15|   29|   89|  100|   37|   48|   75|\n",
            "|     1|   45|   72|   51|   68|   28|   31|   25|   75|  100|   57|   16|   50|   48|   90|\n",
            "|     4|   45|    5|   45|   92|   74|    7|   23|   34|   19|  100|   67|  100|   48|   68|\n",
            "|     1|   45|  100|   40|   83|   33|   49|   20|   60|   81|   67|   47|   40|   48|  100|\n",
            "|     6|   20|   49|   40|   99|   73|   88|   16|   16|   17|  100|   20|   37|  100|   74|\n",
            "|     4|   45|   26|   97|   72|   65|    3|   49|   71|   85|  100|   66|   73|   48|   35|\n",
            "|     0|   57|   11|   99|   62|   36|    2|  100|   43|   63|   39|   63|   89|   48|    5|\n",
            "|     5|  100|   72|   61|   50|   32|   12|   94|   17|   56|   89|  100|   69|   13|   38|\n",
            "|     0|   85|   59|   50|   72|   75|   22|   87|   13|   25|  100|   26|  100|   57|   31|\n",
            "|     9|    1|   59|   38|  100|   84|   31|   42|   79|   62|   87|   18|  100|   74|   69|\n",
            "|     8|   85|   88|   67|   65|  100|   62|  100|   33|   21|   96|   63|   79|   48|   27|\n",
            "|     5|    2|   36|   13|   99|   19|   72|   42|   47|   34|  100|   63|   64|  100|   78|\n",
            "|     9|   45|   59|   39|  100|   79|   54|    4|   67|   23|   74|   21|  100|   91|   87|\n",
            "|     7|   24|   81|   40|  100|   53|   38|   22|   12|   87|   85|  100|   58|   48|   88|\n",
            "|     3|   17|  100|    9|  100|   32|   57|   42|   38|   68|   76|   63|   82|   35|   92|\n",
            "|     3|    7|   75|   13|  100|   49|   66|   42|   42|   51|   84|   63|   97|   50|   75|\n",
            "|     9|   16|   25|   23|  100|   54|   63|   42|   62|   79|   80|   63|   97|   99|   76|\n",
            "|     2|    1|   59|   11|  100|   58|   43|   42|    1|   34|   66|  100|   16|   24|   65|\n",
            "|     2|   45|   72|   18|   99|   46|   19|   42|   48|   70|   73|  100|    5|   48|  100|\n",
            "+------+-----+-----+-----+-----+-----+-----+-----+-----+-----+-----+-----+-----+-----+-----+\n",
            "only showing top 20 rows\n",
            "\n"
          ]
        }
      ]
    },
    {
      "cell_type": "code",
      "source": [
        "corr_list ={}\n",
        "for col in [\"out_a\", \"out_b\",  \"out_c\",\"out_d\",\"out_e\",\"out_f\",\"out_g\",\"out_j\",\"out_k\",\"out_l\",\"out_m\",\"out_n\",\"out_o\",\"out_p\"]:\n",
        "  corr_list[\"target_\" + col] = mdbf.stat.corr(\"target\", col)\n"
      ],
      "metadata": {
        "id": "Q4kVx7rQ0wk2"
      },
      "execution_count": 551,
      "outputs": []
    },
    {
      "cell_type": "markdown",
      "source": [
        "Out_a (col 1) variable is more correlated with target"
      ],
      "metadata": {
        "id": "BWwhNfcR9miB"
      }
    },
    {
      "cell_type": "code",
      "source": [
        "corr_list_sort = sorted(corr_list.items(),key = operator.itemgetter(1),reverse = True)\n",
        "corr_list_sort"
      ],
      "metadata": {
        "colab": {
          "base_uri": "https://localhost:8080/"
        },
        "id": "HTObj_N1z1Zf",
        "outputId": "60af8237-1da8-46ee-8e0d-adb6916265e9"
      },
      "execution_count": 553,
      "outputs": [
        {
          "output_type": "execute_result",
          "data": {
            "text/plain": [
              "[('target_out_a', 0.38674488228697257),\n",
              " ('target_out_b', 0.25263699832435726),\n",
              " ('target_out_c', 0.22381247898401008),\n",
              " ('target_out_d', 0.18250138663367413),\n",
              " ('target_out_j', 0.1341639378050535),\n",
              " ('target_out_m', 0.09033156450219507),\n",
              " ('target_out_f', 0.0834792785060136),\n",
              " ('target_out_p', 0.023040108995573384),\n",
              " ('target_out_e', 0.005053615780746761),\n",
              " ('target_out_o', 0.004769029821385412),\n",
              " ('target_out_n', -0.0565327399594594),\n",
              " ('target_out_k', -0.06538807705345413),\n",
              " ('target_out_l', -0.10772965905197994),\n",
              " ('target_out_g', -0.12498477823514045)]"
            ]
          },
          "metadata": {},
          "execution_count": 553
        }
      ]
    },
    {
      "cell_type": "markdown",
      "source": [
        "**Visualize data in two dimensions by going through PCA**"
      ],
      "metadata": {
        "id": "5TYncYU6-CLf"
      }
    },
    {
      "cell_type": "code",
      "source": [
        "#PCA\n",
        "feature = mdbf.drop(*[\"target\"])\n",
        "\n"
      ],
      "metadata": {
        "id": "cVaAGlFQ7iIE"
      },
      "execution_count": 562,
      "outputs": []
    },
    {
      "cell_type": "code",
      "source": [
        ""
      ],
      "metadata": {
        "id": "eujiuTIv7ihy"
      },
      "execution_count": null,
      "outputs": []
    }
  ],
  "metadata": {
    "colab": {
      "collapsed_sections": [],
      "name": "projectipynb",
      "provenance": [],
      "include_colab_link": true
    },
    "kernelspec": {
      "display_name": "Python 3",
      "name": "python3"
    },
    "language_info": {
      "name": "python"
    }
  },
  "nbformat": 4,
  "nbformat_minor": 0
}